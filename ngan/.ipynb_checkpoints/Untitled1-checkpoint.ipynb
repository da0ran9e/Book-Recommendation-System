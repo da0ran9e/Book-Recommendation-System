{
 "cells": [
  {
   "cell_type": "markdown",
   "id": "70d75c79",
   "metadata": {},
   "source": [
    "# Data preparation \n",
    "Import the necessary libraries and load the datasets."
   ]
  },
  {
   "cell_type": "code",
   "execution_count": 3,
   "id": "c2f7e7d5",
   "metadata": {},
   "outputs": [],
   "source": [
    "# Libraries for data preparation & visualization\n",
    "import numpy as np\n",
    "import seaborn as sns\n",
    "import pandas as pd\n",
    "import plotly.io as pio\n",
    "import matplotlib.pyplot as plt\n",
    "pio.renderers.default = \"png\"\n",
    "\n",
    "# Ignore printing warnings for general readability\n",
    "import warnings \n",
    "warnings.filterwarnings(\"ignore\")"
   ]
  },
  {
   "cell_type": "code",
   "execution_count": 4,
   "id": "7e291e2f",
   "metadata": {},
   "outputs": [
    {
     "ename": "FileNotFoundError",
     "evalue": "[Errno 2] No such file or directory: './../BX-Books.csv'",
     "output_type": "error",
     "traceback": [
      "\u001b[1;31m---------------------------------------------------------------------------\u001b[0m",
      "\u001b[1;31mFileNotFoundError\u001b[0m                         Traceback (most recent call last)",
      "\u001b[1;32m~\\AppData\\Local\\Temp\\ipykernel_19264\\2549457881.py\u001b[0m in \u001b[0;36m<module>\u001b[1;34m\u001b[0m\n\u001b[0;32m      4\u001b[0m     \u001b[1;32mreturn\u001b[0m \u001b[0mdf\u001b[0m\u001b[1;33m\u001b[0m\u001b[1;33m\u001b[0m\u001b[0m\n\u001b[0;32m      5\u001b[0m \u001b[1;33m\u001b[0m\u001b[0m\n\u001b[1;32m----> 6\u001b[1;33m \u001b[0mbook\u001b[0m   \u001b[1;33m=\u001b[0m \u001b[0mloaddata\u001b[0m\u001b[1;33m(\u001b[0m\u001b[1;34m\"./../BX-Books\"\u001b[0m\u001b[1;33m)\u001b[0m\u001b[1;33m\u001b[0m\u001b[1;33m\u001b[0m\u001b[0m\n\u001b[0m\u001b[0;32m      7\u001b[0m \u001b[0muser\u001b[0m   \u001b[1;33m=\u001b[0m \u001b[0mloaddata\u001b[0m\u001b[1;33m(\u001b[0m\u001b[1;34m\"../../BX-Users\"\u001b[0m\u001b[1;33m)\u001b[0m\u001b[1;33m\u001b[0m\u001b[1;33m\u001b[0m\u001b[0m\n\u001b[0;32m      8\u001b[0m \u001b[0mrating\u001b[0m \u001b[1;33m=\u001b[0m \u001b[0mloaddata\u001b[0m\u001b[1;33m(\u001b[0m\u001b[1;34m\"../../BX-Book-Ratings\"\u001b[0m\u001b[1;33m)\u001b[0m\u001b[1;33m\u001b[0m\u001b[1;33m\u001b[0m\u001b[0m\n",
      "\u001b[1;32m~\\AppData\\Local\\Temp\\ipykernel_19264\\2549457881.py\u001b[0m in \u001b[0;36mloaddata\u001b[1;34m(filename)\u001b[0m\n\u001b[0;32m      1\u001b[0m \u001b[1;31m# Loading the dataset\u001b[0m\u001b[1;33m\u001b[0m\u001b[1;33m\u001b[0m\u001b[0m\n\u001b[0;32m      2\u001b[0m \u001b[1;32mdef\u001b[0m \u001b[0mloaddata\u001b[0m\u001b[1;33m(\u001b[0m\u001b[0mfilename\u001b[0m\u001b[1;33m)\u001b[0m\u001b[1;33m:\u001b[0m\u001b[1;33m\u001b[0m\u001b[1;33m\u001b[0m\u001b[0m\n\u001b[1;32m----> 3\u001b[1;33m     \u001b[0mdf\u001b[0m \u001b[1;33m=\u001b[0m \u001b[0mpd\u001b[0m\u001b[1;33m.\u001b[0m\u001b[0mread_csv\u001b[0m\u001b[1;33m(\u001b[0m\u001b[1;34mf'{filename}.csv'\u001b[0m\u001b[1;33m,\u001b[0m\u001b[0msep\u001b[0m\u001b[1;33m=\u001b[0m\u001b[1;34m';'\u001b[0m\u001b[1;33m,\u001b[0m\u001b[0merror_bad_lines\u001b[0m\u001b[1;33m=\u001b[0m\u001b[1;32mFalse\u001b[0m\u001b[1;33m,\u001b[0m\u001b[0mwarn_bad_lines\u001b[0m\u001b[1;33m=\u001b[0m\u001b[1;32mFalse\u001b[0m\u001b[1;33m,\u001b[0m\u001b[0mencoding\u001b[0m\u001b[1;33m=\u001b[0m\u001b[1;34m'latin-1'\u001b[0m\u001b[1;33m)\u001b[0m\u001b[1;33m\u001b[0m\u001b[1;33m\u001b[0m\u001b[0m\n\u001b[0m\u001b[0;32m      4\u001b[0m     \u001b[1;32mreturn\u001b[0m \u001b[0mdf\u001b[0m\u001b[1;33m\u001b[0m\u001b[1;33m\u001b[0m\u001b[0m\n\u001b[0;32m      5\u001b[0m \u001b[1;33m\u001b[0m\u001b[0m\n",
      "\u001b[1;32mE:\\Anaconda\\lib\\site-packages\\pandas\\util\\_decorators.py\u001b[0m in \u001b[0;36mwrapper\u001b[1;34m(*args, **kwargs)\u001b[0m\n\u001b[0;32m    309\u001b[0m                     \u001b[0mstacklevel\u001b[0m\u001b[1;33m=\u001b[0m\u001b[0mstacklevel\u001b[0m\u001b[1;33m,\u001b[0m\u001b[1;33m\u001b[0m\u001b[1;33m\u001b[0m\u001b[0m\n\u001b[0;32m    310\u001b[0m                 )\n\u001b[1;32m--> 311\u001b[1;33m             \u001b[1;32mreturn\u001b[0m \u001b[0mfunc\u001b[0m\u001b[1;33m(\u001b[0m\u001b[1;33m*\u001b[0m\u001b[0margs\u001b[0m\u001b[1;33m,\u001b[0m \u001b[1;33m**\u001b[0m\u001b[0mkwargs\u001b[0m\u001b[1;33m)\u001b[0m\u001b[1;33m\u001b[0m\u001b[1;33m\u001b[0m\u001b[0m\n\u001b[0m\u001b[0;32m    312\u001b[0m \u001b[1;33m\u001b[0m\u001b[0m\n\u001b[0;32m    313\u001b[0m         \u001b[1;32mreturn\u001b[0m \u001b[0mwrapper\u001b[0m\u001b[1;33m\u001b[0m\u001b[1;33m\u001b[0m\u001b[0m\n",
      "\u001b[1;32mE:\\Anaconda\\lib\\site-packages\\pandas\\io\\parsers\\readers.py\u001b[0m in \u001b[0;36mread_csv\u001b[1;34m(filepath_or_buffer, sep, delimiter, header, names, index_col, usecols, squeeze, prefix, mangle_dupe_cols, dtype, engine, converters, true_values, false_values, skipinitialspace, skiprows, skipfooter, nrows, na_values, keep_default_na, na_filter, verbose, skip_blank_lines, parse_dates, infer_datetime_format, keep_date_col, date_parser, dayfirst, cache_dates, iterator, chunksize, compression, thousands, decimal, lineterminator, quotechar, quoting, doublequote, escapechar, comment, encoding, encoding_errors, dialect, error_bad_lines, warn_bad_lines, on_bad_lines, delim_whitespace, low_memory, memory_map, float_precision, storage_options)\u001b[0m\n\u001b[0;32m    676\u001b[0m     \u001b[0mkwds\u001b[0m\u001b[1;33m.\u001b[0m\u001b[0mupdate\u001b[0m\u001b[1;33m(\u001b[0m\u001b[0mkwds_defaults\u001b[0m\u001b[1;33m)\u001b[0m\u001b[1;33m\u001b[0m\u001b[1;33m\u001b[0m\u001b[0m\n\u001b[0;32m    677\u001b[0m \u001b[1;33m\u001b[0m\u001b[0m\n\u001b[1;32m--> 678\u001b[1;33m     \u001b[1;32mreturn\u001b[0m \u001b[0m_read\u001b[0m\u001b[1;33m(\u001b[0m\u001b[0mfilepath_or_buffer\u001b[0m\u001b[1;33m,\u001b[0m \u001b[0mkwds\u001b[0m\u001b[1;33m)\u001b[0m\u001b[1;33m\u001b[0m\u001b[1;33m\u001b[0m\u001b[0m\n\u001b[0m\u001b[0;32m    679\u001b[0m \u001b[1;33m\u001b[0m\u001b[0m\n\u001b[0;32m    680\u001b[0m \u001b[1;33m\u001b[0m\u001b[0m\n",
      "\u001b[1;32mE:\\Anaconda\\lib\\site-packages\\pandas\\io\\parsers\\readers.py\u001b[0m in \u001b[0;36m_read\u001b[1;34m(filepath_or_buffer, kwds)\u001b[0m\n\u001b[0;32m    573\u001b[0m \u001b[1;33m\u001b[0m\u001b[0m\n\u001b[0;32m    574\u001b[0m     \u001b[1;31m# Create the parser.\u001b[0m\u001b[1;33m\u001b[0m\u001b[1;33m\u001b[0m\u001b[0m\n\u001b[1;32m--> 575\u001b[1;33m     \u001b[0mparser\u001b[0m \u001b[1;33m=\u001b[0m \u001b[0mTextFileReader\u001b[0m\u001b[1;33m(\u001b[0m\u001b[0mfilepath_or_buffer\u001b[0m\u001b[1;33m,\u001b[0m \u001b[1;33m**\u001b[0m\u001b[0mkwds\u001b[0m\u001b[1;33m)\u001b[0m\u001b[1;33m\u001b[0m\u001b[1;33m\u001b[0m\u001b[0m\n\u001b[0m\u001b[0;32m    576\u001b[0m \u001b[1;33m\u001b[0m\u001b[0m\n\u001b[0;32m    577\u001b[0m     \u001b[1;32mif\u001b[0m \u001b[0mchunksize\u001b[0m \u001b[1;32mor\u001b[0m \u001b[0miterator\u001b[0m\u001b[1;33m:\u001b[0m\u001b[1;33m\u001b[0m\u001b[1;33m\u001b[0m\u001b[0m\n",
      "\u001b[1;32mE:\\Anaconda\\lib\\site-packages\\pandas\\io\\parsers\\readers.py\u001b[0m in \u001b[0;36m__init__\u001b[1;34m(self, f, engine, **kwds)\u001b[0m\n\u001b[0;32m    930\u001b[0m \u001b[1;33m\u001b[0m\u001b[0m\n\u001b[0;32m    931\u001b[0m         \u001b[0mself\u001b[0m\u001b[1;33m.\u001b[0m\u001b[0mhandles\u001b[0m\u001b[1;33m:\u001b[0m \u001b[0mIOHandles\u001b[0m \u001b[1;33m|\u001b[0m \u001b[1;32mNone\u001b[0m \u001b[1;33m=\u001b[0m \u001b[1;32mNone\u001b[0m\u001b[1;33m\u001b[0m\u001b[1;33m\u001b[0m\u001b[0m\n\u001b[1;32m--> 932\u001b[1;33m         \u001b[0mself\u001b[0m\u001b[1;33m.\u001b[0m\u001b[0m_engine\u001b[0m \u001b[1;33m=\u001b[0m \u001b[0mself\u001b[0m\u001b[1;33m.\u001b[0m\u001b[0m_make_engine\u001b[0m\u001b[1;33m(\u001b[0m\u001b[0mf\u001b[0m\u001b[1;33m,\u001b[0m \u001b[0mself\u001b[0m\u001b[1;33m.\u001b[0m\u001b[0mengine\u001b[0m\u001b[1;33m)\u001b[0m\u001b[1;33m\u001b[0m\u001b[1;33m\u001b[0m\u001b[0m\n\u001b[0m\u001b[0;32m    933\u001b[0m \u001b[1;33m\u001b[0m\u001b[0m\n\u001b[0;32m    934\u001b[0m     \u001b[1;32mdef\u001b[0m \u001b[0mclose\u001b[0m\u001b[1;33m(\u001b[0m\u001b[0mself\u001b[0m\u001b[1;33m)\u001b[0m\u001b[1;33m:\u001b[0m\u001b[1;33m\u001b[0m\u001b[1;33m\u001b[0m\u001b[0m\n",
      "\u001b[1;32mE:\\Anaconda\\lib\\site-packages\\pandas\\io\\parsers\\readers.py\u001b[0m in \u001b[0;36m_make_engine\u001b[1;34m(self, f, engine)\u001b[0m\n\u001b[0;32m   1214\u001b[0m             \u001b[1;31m# \"Union[str, PathLike[str], ReadCsvBuffer[bytes], ReadCsvBuffer[str]]\"\u001b[0m\u001b[1;33m\u001b[0m\u001b[1;33m\u001b[0m\u001b[0m\n\u001b[0;32m   1215\u001b[0m             \u001b[1;31m# , \"str\", \"bool\", \"Any\", \"Any\", \"Any\", \"Any\", \"Any\"\u001b[0m\u001b[1;33m\u001b[0m\u001b[1;33m\u001b[0m\u001b[0m\n\u001b[1;32m-> 1216\u001b[1;33m             self.handles = get_handle(  # type: ignore[call-overload]\n\u001b[0m\u001b[0;32m   1217\u001b[0m                 \u001b[0mf\u001b[0m\u001b[1;33m,\u001b[0m\u001b[1;33m\u001b[0m\u001b[1;33m\u001b[0m\u001b[0m\n\u001b[0;32m   1218\u001b[0m                 \u001b[0mmode\u001b[0m\u001b[1;33m,\u001b[0m\u001b[1;33m\u001b[0m\u001b[1;33m\u001b[0m\u001b[0m\n",
      "\u001b[1;32mE:\\Anaconda\\lib\\site-packages\\pandas\\io\\common.py\u001b[0m in \u001b[0;36mget_handle\u001b[1;34m(path_or_buf, mode, encoding, compression, memory_map, is_text, errors, storage_options)\u001b[0m\n\u001b[0;32m    784\u001b[0m         \u001b[1;32mif\u001b[0m \u001b[0mioargs\u001b[0m\u001b[1;33m.\u001b[0m\u001b[0mencoding\u001b[0m \u001b[1;32mand\u001b[0m \u001b[1;34m\"b\"\u001b[0m \u001b[1;32mnot\u001b[0m \u001b[1;32min\u001b[0m \u001b[0mioargs\u001b[0m\u001b[1;33m.\u001b[0m\u001b[0mmode\u001b[0m\u001b[1;33m:\u001b[0m\u001b[1;33m\u001b[0m\u001b[1;33m\u001b[0m\u001b[0m\n\u001b[0;32m    785\u001b[0m             \u001b[1;31m# Encoding\u001b[0m\u001b[1;33m\u001b[0m\u001b[1;33m\u001b[0m\u001b[0m\n\u001b[1;32m--> 786\u001b[1;33m             handle = open(\n\u001b[0m\u001b[0;32m    787\u001b[0m                 \u001b[0mhandle\u001b[0m\u001b[1;33m,\u001b[0m\u001b[1;33m\u001b[0m\u001b[1;33m\u001b[0m\u001b[0m\n\u001b[0;32m    788\u001b[0m                 \u001b[0mioargs\u001b[0m\u001b[1;33m.\u001b[0m\u001b[0mmode\u001b[0m\u001b[1;33m,\u001b[0m\u001b[1;33m\u001b[0m\u001b[1;33m\u001b[0m\u001b[0m\n",
      "\u001b[1;31mFileNotFoundError\u001b[0m: [Errno 2] No such file or directory: './../BX-Books.csv'"
     ]
    }
   ],
   "source": [
    "# Loading the dataset \n",
    "def loaddata(filename):\n",
    "    df = pd.read_csv(f'{filename}.csv',sep=';',error_bad_lines=False,warn_bad_lines=False,encoding='latin-1')\n",
    "    return df\n",
    "\n",
    "book   = loaddata(\"./../BX-Books\")\n",
    "user   = loaddata(\"../../BX-Users\")\n",
    "rating = loaddata(\"../../BX-Book-Ratings\")"
   ]
  },
  {
   "cell_type": "markdown",
   "id": "b7180ca2",
   "metadata": {},
   "source": [
    "# Data Description"
   ]
  },
  {
   "cell_type": "code",
   "execution_count": null,
   "id": "d5f6a7c3",
   "metadata": {},
   "outputs": [],
   "source": [
    "print(\"shape of Users :\",user.shape)\n",
    "print(\"shape of books :\",book.shape)\n",
    "print(\"shape of ratings :\",rating.shape)"
   ]
  },
  {
   "cell_type": "code",
   "execution_count": null,
   "id": "f584883d",
   "metadata": {},
   "outputs": [],
   "source": [
    "book"
   ]
  },
  {
   "cell_type": "code",
   "execution_count": null,
   "id": "4178bcef",
   "metadata": {},
   "outputs": [],
   "source": [
    "user"
   ]
  },
  {
   "cell_type": "code",
   "execution_count": null,
   "id": "38917f74",
   "metadata": {},
   "outputs": [],
   "source": [
    "rating"
   ]
  },
  {
   "cell_type": "code",
   "execution_count": null,
   "id": "a951dd82",
   "metadata": {},
   "outputs": [],
   "source": [
    "book.info()"
   ]
  },
  {
   "cell_type": "code",
   "execution_count": null,
   "id": "01fa2c86",
   "metadata": {},
   "outputs": [],
   "source": [
    "rating.info()"
   ]
  },
  {
   "cell_type": "code",
   "execution_count": null,
   "id": "21802a35",
   "metadata": {},
   "outputs": [],
   "source": [
    "user.info()"
   ]
  },
  {
   "cell_type": "code",
   "execution_count": null,
   "id": "7f01ad8f",
   "metadata": {},
   "outputs": [],
   "source": [
    "# Check for duplicate values\n",
    "print(f'Duplicate entries book: {book.duplicated().sum()}')\n",
    "print(f'Duplicate entries rating: {rating.duplicated().sum()}')\n",
    "print(f'Duplicate entries user: {user.duplicated().sum()}')"
   ]
  },
  {
   "cell_type": "code",
   "execution_count": null,
   "id": "3e71cccf",
   "metadata": {},
   "outputs": [],
   "source": [
    "# Missing value \n",
    "print(book.isnull().sum())\n",
    "print(\"=\"*35)\n",
    "print(rating.isnull().sum())\n",
    "print(\"=\"*35)\n",
    "print(user.isnull().sum())"
   ]
  },
  {
   "cell_type": "markdown",
   "id": "8b993dea",
   "metadata": {},
   "source": [
    "# Data cleaning\n",
    "Checking and cleaning book data"
   ]
  },
  {
   "cell_type": "code",
   "execution_count": null,
   "id": "c740bb51",
   "metadata": {},
   "outputs": [],
   "source": [
    "book['Year-Of-Publication'].unique()"
   ]
  },
  {
   "cell_type": "code",
   "execution_count": null,
   "id": "7f8c271e",
   "metadata": {},
   "outputs": [],
   "source": [
    "# Extracting and fixing mismatch in feature 'year_of_publication', 'publisher', 'book_author', 'book_title'\n",
    "book[book['Year-Of-Publication'] == 'DK Publishing Inc'] "
   ]
  },
  {
   "cell_type": "code",
   "execution_count": null,
   "id": "17b60cf6",
   "metadata": {},
   "outputs": [],
   "source": [
    "book[book['Year-Of-Publication'] == 'Gallimard']"
   ]
  },
  {
   "cell_type": "code",
   "execution_count": null,
   "id": "cb163031",
   "metadata": {},
   "outputs": [],
   "source": [
    "# function to fix mismatch data in feature 'book_title', 'book_author', ' year_of_publication', 'publisher'\n",
    "def replace_df_value(df, idx, col_name, val):\n",
    "    df.loc[idx, col_name] = val\n",
    "    return df\n",
    "replace_df_value(book, 209538, 'Book-Title', 'DK Readers: Creating the X-Men, How It All Began (Level 4: Proficient Readers)')\n",
    "replace_df_value(book, 209538, 'Book-Author', 'Michael Teitelbaum')\n",
    "replace_df_value(book, 209538, 'Year-Of-Publication', 2000)\n",
    "replace_df_value(book, 209538, 'Publisher', 'DK Publishing Inc')\n",
    "\n",
    "replace_df_value(book, 221678, 'Book-Title', 'DK Readers: Creating the X-Men, How Comic Books Come to Life (Level 4: Proficient Readers)')\n",
    "replace_df_value(book, 221678, 'Book-Author', 'James Buckley')\n",
    "replace_df_value(book, 221678, 'Year-Of-Publication', 2000)\n",
    "replace_df_value(book, 221678, 'Publisher', 'DK Publishing Inc')\n",
    "\n",
    "replace_df_value(book, 220731,'Book-Title', \"Peuple du ciel, suivi de 'Les Bergers\")\n",
    "replace_df_value(book, 220731, 'Book-Author', 'Jean-Marie Gustave Le ClÃ?Â©zio')\n",
    "replace_df_value(book, 220731, 'Year-Of-Publication', 2003)\n",
    "replace_df_value(book, 220731, 'Publisher', 'Gallimard')"
   ]
  },
  {
   "cell_type": "code",
   "execution_count": null,
   "id": "4049824d",
   "metadata": {},
   "outputs": [],
   "source": [
    "#since year data has some object it it, we shall convert it into null data\n",
    "book['Year-Of-Publication'] = pd.to_numeric(book['Year-Of-Publication'],errors='coerce')\n",
    "book['Year-Of-Publication'].isna().sum()"
   ]
  },
  {
   "cell_type": "code",
   "execution_count": null,
   "id": "714c5fa3",
   "metadata": {},
   "outputs": [],
   "source": [
    "#since year data has the year 0 and 2022 which is invalid, we shall convert it into null data\n",
    "book.loc[(book['Year-Of-Publication'] > 2022) | (book['Year-Of-Publication'] == 0), 'year'] = np.NAN\n",
    "#Replacing null data with median \n",
    "book['Year-Of-Publication'].fillna(book['year'].median() , inplace = True)\n",
    "book['Year-Of-Publication'].isna().sum()\n"
   ]
  },
  {
   "cell_type": "code",
   "execution_count": null,
   "id": "d0604308",
   "metadata": {},
   "outputs": [],
   "source": [
    "book['Year-Of-Publication'].unique()"
   ]
  },
  {
   "cell_type": "code",
   "execution_count": null,
   "id": "67bc5069",
   "metadata": {},
   "outputs": [],
   "source": [
    "#Finding and replacing null data from publisher\n",
    "book.loc[book['Publisher'].isna()]\n"
   ]
  },
  {
   "cell_type": "code",
   "execution_count": null,
   "id": "4c876ee3",
   "metadata": {},
   "outputs": [],
   "source": [
    "#Replacing null data from publisher\n",
    "book['Publisher'].fillna('other' , inplace = True)\n",
    "book['Publisher'].isna().sum()"
   ]
  },
  {
   "cell_type": "code",
   "execution_count": null,
   "id": "0370a907",
   "metadata": {},
   "outputs": [],
   "source": [
    "#Finding and replacing null data from author\n",
    "book.loc[book['Book-Author'].isna()]"
   ]
  },
  {
   "cell_type": "code",
   "execution_count": null,
   "id": "da05d48b",
   "metadata": {},
   "outputs": [],
   "source": [
    "#replacing null data from publisher\n",
    "book['Book-Author'].fillna(\"Unknown\" , inplace = True)\n",
    "book['Book-Author'].isna().sum()"
   ]
  },
  {
   "cell_type": "markdown",
   "id": "0439e9f5",
   "metadata": {},
   "source": [
    "Checking and cleaning user data"
   ]
  },
  {
   "cell_type": "code",
   "execution_count": null,
   "id": "ca55c837",
   "metadata": {},
   "outputs": [],
   "source": [
    "print(sorted(user['Age'].unique()))\n"
   ]
  },
  {
   "cell_type": "code",
   "execution_count": null,
   "id": "050e73f4",
   "metadata": {},
   "outputs": [],
   "source": [
    "#removing age above 120 and below 4\n",
    "user.loc[(user['Age'] > 120) | (user['Age'] < 4) , 'Age' ] = np.NAN\n",
    "user['Age'].isna().sum()"
   ]
  },
  {
   "cell_type": "code",
   "execution_count": null,
   "id": "5d03b47a",
   "metadata": {},
   "outputs": [],
   "source": [
    "#Filling the null values with mean\n",
    "user['Age'].fillna(user['Age'].mean(), inplace = True)\n",
    "user.duplicated().sum()"
   ]
  },
  {
   "cell_type": "code",
   "execution_count": null,
   "id": "67f7775a",
   "metadata": {},
   "outputs": [],
   "source": [
    "print(sorted(user['Age'].unique()))"
   ]
  },
  {
   "cell_type": "markdown",
   "id": "19a82a49",
   "metadata": {},
   "source": [
    "# Data processing "
   ]
  },
  {
   "cell_type": "code",
   "execution_count": null,
   "id": "2671a478",
   "metadata": {},
   "outputs": [],
   "source": [
    "#Preprocessing Data\n",
    "book = book[['ISBN', 'Book-Title', 'Book-Author', 'Year-Of-Publication', 'Publisher']]\n",
    "book.rename(columns = {'Book-Title':'title', 'Book-Author':'author', 'Year-Of-Publication':'year', 'Publisher':'publisher'}, inplace=True)\n",
    "user.rename(columns = {'User-ID':'user_id', 'Location':'location', 'Age':'age'}, inplace=True)\n",
    "rating.rename(columns = {'User-ID':'user_id', 'Book-Rating':'rating'}, inplace=True)"
   ]
  },
  {
   "cell_type": "markdown",
   "id": "edf5c81c",
   "metadata": {},
   "source": [
    "# Exploratory data analysist\n",
    "Analyzing data sets to summarize their main characteristics, often using statistical graphics and other data visualization methods\n"
   ]
  },
  {
   "cell_type": "markdown",
   "id": "ba887e2f",
   "metadata": {},
   "source": [
    "## Rating distribution"
   ]
  },
  {
   "cell_type": "code",
   "execution_count": null,
   "id": "f560722a",
   "metadata": {},
   "outputs": [],
   "source": [
    "plt.figure(figsize=[8,5])\n",
    "plt.rc('font', size=12)\n",
    "plt.title('\\nRating counts\\n')\n",
    "sns.countplot(x='rating',data=rating, palette = 'Set2')"
   ]
  },
  {
   "cell_type": "markdown",
   "id": "8e55bb63",
   "metadata": {},
   "source": [
    "<ul>\n",
    "<li>This countplot shows users have rated 0 the most, which means they haven't rated books at all.\n",
    "<li>Still we can see pattern to recognize in ratings from 1-10.\n",
    "<li>\n",
    "    Mostly the users have rated 8 ratings out of 10 as per books. It might happen that the feedback is positive but not extremely positive as 10 ratings (i.e best books ever)."
   ]
  },
  {
   "cell_type": "code",
   "execution_count": null,
   "id": "b2bb5157",
   "metadata": {},
   "outputs": [],
   "source": [
    "#ratings should only exist for the books given in the dataset\n",
    "ratings_new=rating[rating.ISBN.isin(book.ISBN)]\n",
    "print(rating.shape)\n",
    "print(ratings_new.shape)"
   ]
  },
  {
   "cell_type": "code",
   "execution_count": null,
   "id": "d776cc9c",
   "metadata": {},
   "outputs": [],
   "source": [
    "# ratings with 0 rating and without 0 rating ( in rating data includes books given in the dataset )\n",
    "ratings_explicit=ratings_new[ratings_new['rating']!=0]\n",
    "ratings_implicit=ratings_new[ratings_new['rating']==0]\n",
    "print(ratings_new.shape)\n",
    "print(ratings_explicit.shape)\n",
    "print(ratings_implicit.shape)"
   ]
  },
  {
   "cell_type": "code",
   "execution_count": null,
   "id": "b6444c1b",
   "metadata": {},
   "outputs": [],
   "source": [
    "# most popular rating without 0 rating\n",
    "# Visualising Explicit Rating Counts\n",
    "plt.figure(figsize=[8,5])\n",
    "plt.rc('font', size=12)\n",
    "plt.title('\\nMost popular ratings\\n')\n",
    "sns.countplot(data=ratings_explicit, x='rating', palette='Set2')"
   ]
  },
  {
   "cell_type": "markdown",
   "id": "393aa841",
   "metadata": {},
   "source": [
    "#### Now this countplot of bookRating indicates that higher ratings are more common amongst users and rating 8 has been rated highest number of times. There can be many assumptions based on ratings of users:\n",
    "<ul>\n",
    "<li>Let's take ratings group from 1-4. This can be negative impact for books been published if they have ratings from 1 to 4. It can be issues related to - 1. Language 2. Offend by any chapter's incident/paragraph/Author 3. They've read worst book ever.\n",
    "\n",
    "<li>If we think analytical about rating 5, it might happen some same reason as above key points mention.\n",
    "\n",
    "<li>For 5 ratings the users might not sure about book ratings whether it's positive or negative impact.\n",
    "\n",
    "<li>Let's take ratings group from 6-10. This are positive feedback - 1. It can happen that not every book is perfect in all desire. So, the user's have decided to rate 8.\n",
    "2. Since 6 ratings is very low among other ratings. 3. As we can aspect 7 and 8 are average and more ratings from users. 4. 9 and 10 ratings are top best ratings based on Author's, Publisher's and Books been published.\n",
    "\n"
   ]
  },
  {
   "cell_type": "code",
   "execution_count": null,
   "id": "aba6d01d",
   "metadata": {},
   "outputs": [],
   "source": [
    "plt.figure(figsize=(8,6))\n",
    "user.age.hist(bins=[10*i for i in range(1, 10)])     \n",
    "plt.title('Age Distribution')\n",
    "plt.xlabel('Age')\n",
    "plt.ylabel('Count')\n",
    "plt.show()"
   ]
  },
  {
   "cell_type": "markdown",
   "id": "6fbcc1d9",
   "metadata": {},
   "source": [
    "  Looking towards the users age between $30-40$ prefer more and somewhat we can also view between $20-30$. Let's make some hypothesis analysis:\n",
    "<ul>\n",
    "<li>It is obvious that most of the user books are from Age $30$ to $40$.\n",
    "<li>It might happen that the users are more interested on that subject what Authors are publishing in the market.\n",
    "<li>The age group between $20-30$ are immensely attracted to read books published by Author.\n",
    "<li>We can observe same pitch for Age group between $10-20$ and $50-60$. There are can be lot of different reasons."
   ]
  },
  {
   "cell_type": "code",
   "execution_count": null,
   "id": "432625cc",
   "metadata": {},
   "outputs": [],
   "source": [
    "#Merge ratings with books\n",
    "rating_with_books = ratings_new.merge(book, on='ISBN')\n",
    "rating_with_books.head()"
   ]
  },
  {
   "cell_type": "code",
   "execution_count": null,
   "id": "5d234bc5",
   "metadata": {},
   "outputs": [],
   "source": [
    "rating_with_books.groupby('title')['rating'].count().reset_index().sort_values(by='rating', ascending=False)[:10]"
   ]
  },
  {
   "cell_type": "code",
   "execution_count": null,
   "id": "afdab233",
   "metadata": {},
   "outputs": [],
   "source": [
    "# top 10 most popular books\n",
    "\n",
    "popular = rating_with_books.groupby('title')['rating'].count().reset_index().sort_values(by='rating', ascending=False)[:10]\n",
    "popular.columns = ['title', 'Count']\n",
    "\n",
    "plt.figure(figsize=[8, 5])\n",
    "plt.rc('font', size=12)\n",
    "plt.title('\\nMost popular books\\n')\n",
    "sns.barplot(data=popular, y='title', x='Count',palette='Set2')"
   ]
  },
  {
   "cell_type": "code",
   "execution_count": null,
   "id": "8a207afa",
   "metadata": {},
   "outputs": [],
   "source": [
    "# most popular book authors\n",
    "author = rating_with_books.groupby('author')['rating'].count().reset_index().sort_values(by='rating', ascending=False)[:10]\n",
    "plt.figure(figsize=[8, 5])\n",
    "plt.rc('font', size=12)\n",
    "plt.title('\\nMost popular Authors\\n')\n",
    "sns.barplot(data=author, y='author', x='rating',palette='Set2')"
   ]
  },
  {
   "cell_type": "code",
   "execution_count": null,
   "id": "0e8caed2",
   "metadata": {},
   "outputs": [],
   "source": [
    "# Authors with the most books\n",
    "authors = book['author'].value_counts()\n",
    "top_authors = authors.head(10).reset_index()\n",
    "top_authors.columns = ['authors', 'count']\n",
    "plt.figure(figsize=[8, 5])\n",
    "plt.rc('font', size=12)\n",
    "plt.title('\\nTop 10 authors with the most books\\n')\n",
    "sns.barplot(x=top_authors['count'], y=top_authors['authors'],\n",
    "            palette='Set2', )"
   ]
  },
  {
   "cell_type": "markdown",
   "id": "e45fbf8c",
   "metadata": {},
   "source": [
    "Agatha Christie is leading at top with more than 600 counts, followed by William Shakespeare. We can plot some hypothesis point<br>\n",
    "<ul>\n",
    "<li>It can happen in some possible cases that Agatha Christie is not a best Author, though Agatha Christie has most number of books as compared to others.\n",
    "<li>William Shakespeare is one of the popular Author in the world. Still he doesn't have highest number of books.\n",
    "<li>Among all other Authors, it might happen that few of the Author might have some of the best seller books who have millions of copies been sold in world.\n",
    "</ul>"
   ]
  },
  {
   "cell_type": "code",
   "execution_count": null,
   "id": "9f2701d9",
   "metadata": {},
   "outputs": [],
   "source": [
    "# Publishers with the most books\n",
    "publishers = book['publisher'].value_counts()\n",
    "top_publishers = publishers.head(10).reset_index()\n",
    "top_publishers.columns = ['publisher', 'count']\n",
    "plt.figure(figsize=[8, 5])\n",
    "plt.rc('font', size=12)\n",
    "plt.title('\\nTop 10 publishers with the most books\\n')\n",
    "sns.barplot(x=top_publishers['count'], y=top_publishers['publisher'],\n",
    "            palette='Set2', )"
   ]
  },
  {
   "cell_type": "code",
   "execution_count": null,
   "id": "a5354fdc",
   "metadata": {},
   "outputs": [],
   "source": [
    "book()"
   ]
  },
  {
   "cell_type": "code",
   "execution_count": null,
   "id": "7e9d70dc",
   "metadata": {},
   "outputs": [],
   "source": []
  },
  {
   "cell_type": "code",
   "execution_count": null,
   "id": "5c3cef23",
   "metadata": {},
   "outputs": [],
   "source": []
  },
  {
   "cell_type": "code",
   "execution_count": null,
   "id": "5562c4f0",
   "metadata": {},
   "outputs": [],
   "source": []
  },
  {
   "cell_type": "code",
   "execution_count": null,
   "id": "f2ecef13",
   "metadata": {},
   "outputs": [],
   "source": []
  }
 ],
 "metadata": {
  "kernelspec": {
   "display_name": "Python 3 (ipykernel)",
   "language": "python",
   "name": "python3"
  },
  "language_info": {
   "codemirror_mode": {
    "name": "ipython",
    "version": 3
   },
   "file_extension": ".py",
   "mimetype": "text/x-python",
   "name": "python",
   "nbconvert_exporter": "python",
   "pygments_lexer": "ipython3",
   "version": "3.9.13"
  }
 },
 "nbformat": 4,
 "nbformat_minor": 5
}
