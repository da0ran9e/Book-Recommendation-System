{
 "cells": [
  {
   "cell_type": "code",
   "execution_count": 2,
   "id": "d7e2ab5d",
   "metadata": {},
   "outputs": [],
   "source": [
    "from IPython.display import display\n",
    "import pandas as pd\n",
    "import numpy as np\n",
    "\n",
    "# Import seaborn for statistic evaluation\n",
    "import seaborn as sns\n",
    "# Apply the default theme\n",
    "sns.set_theme()\n",
    "import matplotlib.pyplot as plt\n",
    "\n",
    "from sklearn.neighbors import NearestNeighbors\n",
    "import sklearn\n",
    "import re\n",
    "import ipywidgets as widgets\n",
    "from IPython.display import display, clear_output\n",
    "from contextlib import contextmanager\n",
    "import os, sys"
   ]
  },
  {
   "cell_type": "code",
   "execution_count": 3,
   "id": "0d916dba",
   "metadata": {},
   "outputs": [],
   "source": [
    "book_path = r'C:\\Users\\Legion\\Downloads\\b\\1INTRO2AI\\BX-Books.csv'\n",
    "user_path = r'C:\\Users\\Legion\\Downloads\\b\\1INTRO2AI\\BX-Users.csv'\n",
    "rating_path = r'C:\\Users\\Legion\\Downloads\\b\\1INTRO2AI\\BX-Book-Ratings.csv'\n",
    "books = pd.read_csv(book_path, encoding='latin-1' , on_bad_lines='skip' , sep=';' , low_memory=False, escapechar='\\\\')\n",
    "users = pd.read_csv(user_path, encoding='latin-1' , on_bad_lines='skip' , sep=';' , low_memory=False, escapechar='\\\\')\n",
    "ratings = pd.read_csv(rating_path, encoding='latin-1' , on_bad_lines='skip' , sep=';' , low_memory=False, escapechar='\\\\')"
   ]
  },
  {
   "cell_type": "code",
   "execution_count": 4,
   "id": "d0965685",
   "metadata": {},
   "outputs": [],
   "source": [
    "pd.set_option('display.max_colwidth', None)"
   ]
  },
  {
   "cell_type": "code",
   "execution_count": 5,
   "id": "a476301e",
   "metadata": {},
   "outputs": [
    {
     "data": {
      "text/plain": [
       "ISBN                   object\n",
       "Book-Title             object\n",
       "Book-Author            object\n",
       "Year-Of-Publication     int64\n",
       "Publisher              object\n",
       "Image-URL-S            object\n",
       "Image-URL-M            object\n",
       "Image-URL-L            object\n",
       "dtype: object"
      ]
     },
     "execution_count": 5,
     "metadata": {},
     "output_type": "execute_result"
    }
   ],
   "source": [
    "books.dtypes"
   ]
  },
  {
   "cell_type": "code",
   "execution_count": 7,
   "id": "f8094933",
   "metadata": {},
   "outputs": [
    {
     "data": {
      "text/plain": [
       "User-ID       int64\n",
       "Location     object\n",
       "Age         float64\n",
       "dtype: object"
      ]
     },
     "execution_count": 7,
     "metadata": {},
     "output_type": "execute_result"
    }
   ],
   "source": [
    "users.dtypes"
   ]
  },
  {
   "cell_type": "code",
   "execution_count": 8,
   "id": "6a47c92b",
   "metadata": {},
   "outputs": [
    {
     "data": {
      "text/plain": [
       "User-ID         int64\n",
       "ISBN           object\n",
       "Book-Rating     int64\n",
       "dtype: object"
      ]
     },
     "execution_count": 8,
     "metadata": {},
     "output_type": "execute_result"
    }
   ],
   "source": [
    "ratings.dtypes"
   ]
  },
  {
   "cell_type": "code",
   "execution_count": 6,
   "id": "f730b3db",
   "metadata": {},
   "outputs": [],
   "source": [
    "# Data Preprocessing\n",
    "\n",
    "books.loc[books['Book-Author'].isnull(), 'Book-Author'] = \"No author\"\n",
    "books.loc[books['Publisher'].isnull(), 'Book-Author'] = \"Other\""
   ]
  },
  {
   "cell_type": "code",
   "execution_count": 9,
   "id": "7aeb682b",
   "metadata": {},
   "outputs": [
    {
     "name": "stdout",
     "output_type": "stream",
     "text": [
      "(278858, 3)\n",
      "[nan, 0.0, 1.0, 2.0, 3.0, 4.0, 5.0, 6.0, 7.0, 8.0, 9.0, 10.0, 11.0, 12.0, 13.0, 14.0, 15.0, 16.0, 17.0, 18.0, 19.0, 20.0, 21.0, 22.0, 23.0, 24.0, 25.0, 26.0, 27.0, 28.0, 29.0, 30.0, 31.0, 32.0, 33.0, 34.0, 35.0, 36.0, 37.0, 38.0, 39.0, 40.0, 41.0, 42.0, 43.0, 44.0, 45.0, 46.0, 47.0, 48.0, 49.0, 50.0, 51.0, 52.0, 53.0, 54.0, 55.0, 56.0, 57.0, 58.0, 59.0, 60.0, 61.0, 62.0, 63.0, 64.0, 65.0, 66.0, 67.0, 68.0, 69.0, 70.0, 71.0, 72.0, 73.0, 74.0, 75.0, 76.0, 77.0, 78.0, 79.0, 80.0, 81.0, 82.0, 83.0, 84.0, 85.0, 86.0, 87.0, 88.0, 89.0, 90.0, 91.0, 92.0, 93.0, 94.0, 95.0, 96.0, 97.0, 98.0, 99.0, 100.0, 101.0, 102.0, 103.0, 104.0, 105.0, 106.0, 107.0, 108.0, 109.0, 110.0, 111.0, 113.0, 114.0, 115.0, 116.0, 118.0, 119.0, 123.0, 124.0, 127.0, 128.0, 132.0, 133.0, 136.0, 137.0, 138.0, 140.0, 141.0, 143.0, 146.0, 147.0, 148.0, 151.0, 152.0, 156.0, 157.0, 159.0, 162.0, 168.0, 172.0, 175.0, 183.0, 186.0, 189.0, 199.0, 200.0, 201.0, 204.0, 207.0, 208.0, 209.0, 210.0, 212.0, 219.0, 220.0, 223.0, 226.0, 228.0, 229.0, 230.0, 231.0, 237.0, 239.0, 244.0]\n"
     ]
    }
   ],
   "source": [
    "print(users.shape)\n",
    "users.head()\n",
    "print(sorted(users['Age'].unique()))"
   ]
  },
  {
   "cell_type": "code",
   "execution_count": 10,
   "id": "a2eda06e",
   "metadata": {},
   "outputs": [],
   "source": [
    "users.loc[(users['Age'] < 5) | (users['Age'] > 100), 'Age'] = pd.NA\n",
    "users['Age'] = users['Age'].fillna(users['Age'].mean())\n",
    "users['Age'] = users['Age'].astype(np.int64)"
   ]
  },
  {
   "cell_type": "code",
   "execution_count": 11,
   "id": "be06a2a9",
   "metadata": {},
   "outputs": [
    {
     "name": "stdout",
     "output_type": "stream",
     "text": [
      "75676205182\n",
      "(1149780, 3)\n",
      "(1031175, 3)\n",
      "(1149780, 3)\n"
     ]
    }
   ],
   "source": [
    "print(users.shape[0] * books.shape[0])\n",
    "ratings.head()\n",
    "print(ratings.shape)\n",
    "# Check if books rated is in database\n",
    "r_existbook = ratings[ratings['ISBN'].isin(books['ISBN'])]\n",
    "print(r_existbook.shape)\n",
    "# Check if people rated is in database\n",
    "r_existpeople = ratings[ratings['User-ID'].isin(users['User-ID'])]\n",
    "print(r_existpeople.shape)"
   ]
  },
  {
   "cell_type": "code",
   "execution_count": 12,
   "id": "1eae62cd",
   "metadata": {},
   "outputs": [
    {
     "data": {
      "text/plain": [
       "array([ 0,  5,  3,  6,  8,  7, 10,  9,  4,  1,  2], dtype=int64)"
      ]
     },
     "execution_count": 12,
     "metadata": {},
     "output_type": "execute_result"
    }
   ],
   "source": [
    "ratings['Book-Rating'].unique()"
   ]
  },
  {
   "cell_type": "code",
   "execution_count": 13,
   "id": "96e6e628",
   "metadata": {},
   "outputs": [],
   "source": [
    "ratings_nonzero = r_existbook[r_existbook['Book-Rating'] != 0]\n",
    "# ratings_explicit\n",
    "ratings_allzero = r_existbook[r_existbook['Book-Rating'] == 0]\n",
    "# ratings_implicit"
   ]
  },
  {
   "cell_type": "code",
   "execution_count": 14,
   "id": "79c9d52a",
   "metadata": {},
   "outputs": [],
   "source": [
    "# reducing to user rating 100 books and books have 100 ratings\n",
    "counts1 = ratings_nonzero['User-ID'].value_counts()\n",
    "ratings_nonzero = ratings_nonzero[ratings_nonzero['User-ID'].isin(counts1[counts1 >= 100].index)]\n",
    "counts = ratings_nonzero['Book-Rating'].value_counts()\n",
    "ratings_nonzero = ratings_nonzero[ratings_nonzero['Book-Rating'].isin(counts[counts >= 100].index)]"
   ]
  },
  {
   "cell_type": "code",
   "execution_count": 15,
   "id": "b30a09bd",
   "metadata": {},
   "outputs": [
    {
     "name": "stdout",
     "output_type": "stream",
     "text": [
      "(449, 66577)\n"
     ]
    },
    {
     "data": {
      "text/html": [
       "<div>\n",
       "<style scoped>\n",
       "    .dataframe tbody tr th:only-of-type {\n",
       "        vertical-align: middle;\n",
       "    }\n",
       "\n",
       "    .dataframe tbody tr th {\n",
       "        vertical-align: top;\n",
       "    }\n",
       "\n",
       "    .dataframe thead th {\n",
       "        text-align: right;\n",
       "    }\n",
       "</style>\n",
       "<table border=\"1\" class=\"dataframe\">\n",
       "  <thead>\n",
       "    <tr style=\"text-align: right;\">\n",
       "      <th>ISBN</th>\n",
       "      <th>0000913154</th>\n",
       "      <th>0001046438</th>\n",
       "      <th>000104687X</th>\n",
       "      <th>0001047213</th>\n",
       "      <th>0001047973</th>\n",
       "      <th>000104799X</th>\n",
       "      <th>0001048082</th>\n",
       "      <th>0001053736</th>\n",
       "      <th>0001053744</th>\n",
       "      <th>0001055607</th>\n",
       "      <th>...</th>\n",
       "      <th>B000092Q0A</th>\n",
       "      <th>B00009EF82</th>\n",
       "      <th>B00009NDAN</th>\n",
       "      <th>B0000DYXID</th>\n",
       "      <th>B0000T6KHI</th>\n",
       "      <th>B0000VZEJQ</th>\n",
       "      <th>B0000X8HIE</th>\n",
       "      <th>B00013AX9E</th>\n",
       "      <th>B0001I1KOG</th>\n",
       "      <th>B000234N3A</th>\n",
       "    </tr>\n",
       "    <tr>\n",
       "      <th>User-ID</th>\n",
       "      <th></th>\n",
       "      <th></th>\n",
       "      <th></th>\n",
       "      <th></th>\n",
       "      <th></th>\n",
       "      <th></th>\n",
       "      <th></th>\n",
       "      <th></th>\n",
       "      <th></th>\n",
       "      <th></th>\n",
       "      <th></th>\n",
       "      <th></th>\n",
       "      <th></th>\n",
       "      <th></th>\n",
       "      <th></th>\n",
       "      <th></th>\n",
       "      <th></th>\n",
       "      <th></th>\n",
       "      <th></th>\n",
       "      <th></th>\n",
       "      <th></th>\n",
       "    </tr>\n",
       "  </thead>\n",
       "  <tbody>\n",
       "    <tr>\n",
       "      <th>2033</th>\n",
       "      <td>0.0</td>\n",
       "      <td>0.0</td>\n",
       "      <td>0.0</td>\n",
       "      <td>0.0</td>\n",
       "      <td>0.0</td>\n",
       "      <td>0.0</td>\n",
       "      <td>0.0</td>\n",
       "      <td>0.0</td>\n",
       "      <td>0.0</td>\n",
       "      <td>0.0</td>\n",
       "      <td>...</td>\n",
       "      <td>0.0</td>\n",
       "      <td>0.0</td>\n",
       "      <td>0.0</td>\n",
       "      <td>0.0</td>\n",
       "      <td>0.0</td>\n",
       "      <td>0.0</td>\n",
       "      <td>0.0</td>\n",
       "      <td>0.0</td>\n",
       "      <td>0.0</td>\n",
       "      <td>0.0</td>\n",
       "    </tr>\n",
       "    <tr>\n",
       "      <th>2110</th>\n",
       "      <td>0.0</td>\n",
       "      <td>0.0</td>\n",
       "      <td>0.0</td>\n",
       "      <td>0.0</td>\n",
       "      <td>0.0</td>\n",
       "      <td>0.0</td>\n",
       "      <td>0.0</td>\n",
       "      <td>0.0</td>\n",
       "      <td>0.0</td>\n",
       "      <td>0.0</td>\n",
       "      <td>...</td>\n",
       "      <td>0.0</td>\n",
       "      <td>0.0</td>\n",
       "      <td>0.0</td>\n",
       "      <td>0.0</td>\n",
       "      <td>0.0</td>\n",
       "      <td>0.0</td>\n",
       "      <td>0.0</td>\n",
       "      <td>0.0</td>\n",
       "      <td>0.0</td>\n",
       "      <td>0.0</td>\n",
       "    </tr>\n",
       "    <tr>\n",
       "      <th>2276</th>\n",
       "      <td>0.0</td>\n",
       "      <td>0.0</td>\n",
       "      <td>0.0</td>\n",
       "      <td>0.0</td>\n",
       "      <td>0.0</td>\n",
       "      <td>0.0</td>\n",
       "      <td>0.0</td>\n",
       "      <td>0.0</td>\n",
       "      <td>0.0</td>\n",
       "      <td>0.0</td>\n",
       "      <td>...</td>\n",
       "      <td>0.0</td>\n",
       "      <td>0.0</td>\n",
       "      <td>0.0</td>\n",
       "      <td>0.0</td>\n",
       "      <td>0.0</td>\n",
       "      <td>0.0</td>\n",
       "      <td>0.0</td>\n",
       "      <td>0.0</td>\n",
       "      <td>0.0</td>\n",
       "      <td>0.0</td>\n",
       "    </tr>\n",
       "    <tr>\n",
       "      <th>4017</th>\n",
       "      <td>0.0</td>\n",
       "      <td>0.0</td>\n",
       "      <td>0.0</td>\n",
       "      <td>0.0</td>\n",
       "      <td>0.0</td>\n",
       "      <td>0.0</td>\n",
       "      <td>0.0</td>\n",
       "      <td>0.0</td>\n",
       "      <td>0.0</td>\n",
       "      <td>0.0</td>\n",
       "      <td>...</td>\n",
       "      <td>0.0</td>\n",
       "      <td>0.0</td>\n",
       "      <td>0.0</td>\n",
       "      <td>0.0</td>\n",
       "      <td>0.0</td>\n",
       "      <td>0.0</td>\n",
       "      <td>0.0</td>\n",
       "      <td>0.0</td>\n",
       "      <td>0.0</td>\n",
       "      <td>0.0</td>\n",
       "    </tr>\n",
       "    <tr>\n",
       "      <th>4385</th>\n",
       "      <td>0.0</td>\n",
       "      <td>0.0</td>\n",
       "      <td>0.0</td>\n",
       "      <td>0.0</td>\n",
       "      <td>0.0</td>\n",
       "      <td>0.0</td>\n",
       "      <td>0.0</td>\n",
       "      <td>0.0</td>\n",
       "      <td>0.0</td>\n",
       "      <td>0.0</td>\n",
       "      <td>...</td>\n",
       "      <td>0.0</td>\n",
       "      <td>0.0</td>\n",
       "      <td>0.0</td>\n",
       "      <td>0.0</td>\n",
       "      <td>0.0</td>\n",
       "      <td>0.0</td>\n",
       "      <td>0.0</td>\n",
       "      <td>0.0</td>\n",
       "      <td>0.0</td>\n",
       "      <td>0.0</td>\n",
       "    </tr>\n",
       "  </tbody>\n",
       "</table>\n",
       "<p>5 rows × 66577 columns</p>\n",
       "</div>"
      ],
      "text/plain": [
       "ISBN     0000913154  0001046438  000104687X  0001047213  0001047973  \\\n",
       "User-ID                                                               \n",
       "2033            0.0         0.0         0.0         0.0         0.0   \n",
       "2110            0.0         0.0         0.0         0.0         0.0   \n",
       "2276            0.0         0.0         0.0         0.0         0.0   \n",
       "4017            0.0         0.0         0.0         0.0         0.0   \n",
       "4385            0.0         0.0         0.0         0.0         0.0   \n",
       "\n",
       "ISBN     000104799X  0001048082  0001053736  0001053744  0001055607  ...  \\\n",
       "User-ID                                                              ...   \n",
       "2033            0.0         0.0         0.0         0.0         0.0  ...   \n",
       "2110            0.0         0.0         0.0         0.0         0.0  ...   \n",
       "2276            0.0         0.0         0.0         0.0         0.0  ...   \n",
       "4017            0.0         0.0         0.0         0.0         0.0  ...   \n",
       "4385            0.0         0.0         0.0         0.0         0.0  ...   \n",
       "\n",
       "ISBN     B000092Q0A  B00009EF82  B00009NDAN  B0000DYXID  B0000T6KHI  \\\n",
       "User-ID                                                               \n",
       "2033            0.0         0.0         0.0         0.0         0.0   \n",
       "2110            0.0         0.0         0.0         0.0         0.0   \n",
       "2276            0.0         0.0         0.0         0.0         0.0   \n",
       "4017            0.0         0.0         0.0         0.0         0.0   \n",
       "4385            0.0         0.0         0.0         0.0         0.0   \n",
       "\n",
       "ISBN     B0000VZEJQ  B0000X8HIE  B00013AX9E  B0001I1KOG  B000234N3A  \n",
       "User-ID                                                              \n",
       "2033            0.0         0.0         0.0         0.0         0.0  \n",
       "2110            0.0         0.0         0.0         0.0         0.0  \n",
       "2276            0.0         0.0         0.0         0.0         0.0  \n",
       "4017            0.0         0.0         0.0         0.0         0.0  \n",
       "4385            0.0         0.0         0.0         0.0         0.0  \n",
       "\n",
       "[5 rows x 66577 columns]"
      ]
     },
     "execution_count": 15,
     "metadata": {},
     "output_type": "execute_result"
    }
   ],
   "source": [
    "ratings_matrix = ratings_nonzero.pivot(index = 'User-ID', columns = 'ISBN', values = 'Book-Rating')\n",
    "userID = ratings_matrix.index\n",
    "ISBN = ratings_matrix.columns\n",
    "print(ratings_matrix.shape)\n",
    "ratings_matrix = ratings_matrix.fillna(0)\n",
    "ratings_matrix.head()"
   ]
  },
  {
   "cell_type": "code",
   "execution_count": 16,
   "id": "a7ad3b3e",
   "metadata": {},
   "outputs": [],
   "source": [
    "# KNN Function\n",
    "#setting global variables\n",
    "global metric,k\n",
    "k=10\n",
    "global_metric='cosine'\n",
    "global_algorithm = 'brute'"
   ]
  },
  {
   "cell_type": "code",
   "execution_count": 17,
   "id": "91c1bd99",
   "metadata": {},
   "outputs": [],
   "source": [
    "def findksimilarusers(user_id, ratings, metric=global_metric, algo=global_algorithm,k=k):\n",
    "    similarities=[]\n",
    "    indices=[]\n",
    "    model_knn = NearestNeighbors(metric = metric, algorithm = algo)\n",
    "    model_knn.fit(ratings.values)\n",
    "    loc = ratings.index.get_loc(user_id)\n",
    "    distances, indices = model_knn.kneighbors(ratings.iloc[loc, :].values.reshape(1, -1), n_neighbors = k+1)\n",
    "    similarities = 1 - distances.flatten()\n",
    "    \n",
    "    return similarities, indices"
   ]
  },
  {
   "cell_type": "code",
   "execution_count": 24,
   "id": "e2941e9f",
   "metadata": {},
   "outputs": [],
   "source": [
    "#This function predicts rating for specified user-item combination based on user-based approach\n",
    "def predict_userbased(user_id, item_id, ratings, metric = global_metric, algorithm = global_algorithm, k=k):\n",
    "    prediction=0\n",
    "    user_loc = ratings.index.get_loc(user_id)\n",
    "    item_loc = ratings.columns.get_loc(item_id)\n",
    "    similarities, indices = findksimilarusers(user_id, ratings, metric, algorithm, k) #similar users based on cosine similarity\n",
    "    mean_rating = ratings.iloc[user_loc, :].mean() #to adjust for zero based indexing\n",
    "    sum_wt = np.sum(similarities)-1\n",
    "    product=1\n",
    "    wtd_sum = 0 \n",
    "    \n",
    "    for i in range(0, len(indices.flatten())):\n",
    "        if indices.flatten()[i] == user_loc:\n",
    "            continue;\n",
    "        else: \n",
    "            ratings_diff = ratings.iloc[indices.flatten()[i],item_loc]-np.mean(ratings.iloc[indices.flatten()[i],:])\n",
    "            product = ratings_diff * (similarities[i])\n",
    "            wtd_sum = wtd_sum + product\n",
    "    \n",
    "    #in case of very sparse datasets, using correlation metric for collaborative based approach may give negative ratings\n",
    "    #which are handled here as below\n",
    "    if prediction <= 0:\n",
    "        prediction = 1   \n",
    "    elif prediction >10:\n",
    "        prediction = 10\n",
    "    \n",
    "    prediction = int(round(mean_rating + (wtd_sum/sum_wt)))\n",
    "    # print ('\\nPredicted rating for user {0} -> item {1}: {2}'.format(user_id,item_id,prediction))\n",
    "\n",
    "    return prediction"
   ]
  },
  {
   "cell_type": "code",
   "execution_count": 19,
   "id": "e6e0cd9a",
   "metadata": {},
   "outputs": [
    {
     "name": "stdout",
     "output_type": "stream",
     "text": [
      "\n",
      "Predicted rating for user 11676 -> item 0001056107: 2\n"
     ]
    },
    {
     "data": {
      "text/plain": [
       "2"
      ]
     },
     "execution_count": 19,
     "metadata": {},
     "output_type": "execute_result"
    }
   ],
   "source": [
    "predict_userbased(11676, '0001056107', ratings_matrix)"
   ]
  },
  {
   "cell_type": "code",
   "execution_count": 47,
   "id": "a31afe61",
   "metadata": {},
   "outputs": [],
   "source": [
    "def recommendedItem(user_id, ratings, metric=global_metric):\n",
    "    if (user_id not in ratings.index.values) or type(user_id) is not int:\n",
    "        print(\"User id should be a valid integer from this list : \\n\\n {}\".format(re.sub('[\\[\\]]', '', np.array_str(ratings_matrix.index.values))))\n",
    "    else:\n",
    "        prediction = []\n",
    "        \n",
    "#         ids = ['Item-based (correlation)', 'Item-based (cosine)', 'User-based (correlation)', 'User-based (cosine)']\n",
    "#         select = widgets.Dropdown(options = ids, value = ids[0], description = ' Select approach', width = '1000px')\n",
    "#         def on_change(change):\n",
    "#             clear_output(wait = True)\n",
    "#             prediction = []\n",
    "#             if change['type'] == 'change' and change['name'] == 'value':\n",
    "#                 if (select.value == 'Item-based (correlation)') | (select.value == 'User-based (correlation)'):\n",
    "#                     global_metric = 'correlation'\n",
    "#                 else:\n",
    "#                     global_metric = 'cosine'\n",
    "                    \n",
    "#                 with suppress_stdout():\n",
    "#         if (select.value == 'User-based (correlation)') | (select.value == 'User-based (cosine)'):\n",
    "\n",
    "        total = ratings.shape[1]\n",
    "        for i in range(ratings.shape[1]):\n",
    "            if (ratings[str(ratings.columns[i])][user_id] != 0): #not rated already\n",
    "                print(\"\\r{0:<0.2f}% Finished\".format(i*100/total), end='')\n",
    "                prediction.append(predict_userbased(user_id, str(ratings.columns[i]) ,ratings, metric))\n",
    "            else:                    \n",
    "                prediction.append(-1) #for books that user already rated\n",
    "#         else:\n",
    "#             print(\"Item-based not implemented yet\")\n",
    "        print(\"\\r100.00% Finished\")\n",
    "        \n",
    "        prediction = pd.Series(prediction)\n",
    "        prediction = prediction.sort_values(ascending = False)\n",
    "        print(\"...\")\n",
    "        print(prediction)\n",
    "        \n",
    "        recommended = prediction[:10]\n",
    "        print(\"\\nFor the User-based ({0} - {1}) approach, the following books are recommended: \\n\".format(global_algorithm, global_metric))\n",
    "        for i in range(len(recommended)):\n",
    "            print(\"{0}. Rated {1}: {2}\".format(i+1, prediction.values[i], books['Book-Title'][recommended.index[i]]))\n",
    "                "
   ]
  },
  {
   "cell_type": "code",
   "execution_count": 50,
   "id": "31e143f9",
   "metadata": {},
   "outputs": [
    {
     "name": "stdout",
     "output_type": "stream",
     "text": [
      "100.00% Finished\n",
      "...\n",
      "10345    6\n",
      "25398    5\n",
      "41145    4\n",
      "16697    3\n",
      "16674    3\n",
      "        ..\n",
      "22249   -1\n",
      "22250   -1\n",
      "22251   -1\n",
      "22252   -1\n",
      "66576   -1\n",
      "Length: 66577, dtype: int64\n",
      "\n",
      "For the User-based (brute - cosine) approach, the following books are recommended: \n",
      "\n",
      "1. Rated 6: Papering &amp; Painting (Time-Life Do-It-Yourself Factfiles, 4)\n",
      "2. Rated 5: The Shining (Signet Book)\n",
      "3. Rated 4: Thoreau's Garden: Native Plants for the American Landscape\n",
      "4. Rated 3: Molly's Surprise: A Christmas Story (The American Girls Collection)\n",
      "5. Rated 3: L'amica della modellista (Narrativa)\n",
      "6. Rated 3: Brazil\n",
      "7. Rated 3: How to Be Funny: An Extra-Silly Guidebook\n",
      "8. Rated 3: Creating Web Pages for Dummies\n",
      "9. Rated 3: Skull Session\n",
      "10. Rated 2: The Rise and Fall of Gay Culture\n"
     ]
    }
   ],
   "source": [
    "global_algorithm = 'brute'\n",
    "global_metric = 'cosine'\n",
    "recommendedItem(4017, ratings_matrix)"
   ]
  },
  {
   "cell_type": "code",
   "execution_count": 51,
   "id": "2ab7b68e",
   "metadata": {},
   "outputs": [
    {
     "name": "stdout",
     "output_type": "stream",
     "text": [
      "100.00% Finished\n",
      "...\n",
      "10345    6\n",
      "25398    5\n",
      "41145    4\n",
      "16697    3\n",
      "16674    3\n",
      "        ..\n",
      "22249   -1\n",
      "22250   -1\n",
      "22251   -1\n",
      "22252   -1\n",
      "66576   -1\n",
      "Length: 66577, dtype: int64\n",
      "\n",
      "For the User-based (kd_tree - euclidean) approach, the following books are recommended: \n",
      "\n",
      "1. Rated 6: Papering &amp; Painting (Time-Life Do-It-Yourself Factfiles, 4)\n",
      "2. Rated 5: The Shining (Signet Book)\n",
      "3. Rated 4: Thoreau's Garden: Native Plants for the American Landscape\n",
      "4. Rated 3: Molly's Surprise: A Christmas Story (The American Girls Collection)\n",
      "5. Rated 3: L'amica della modellista (Narrativa)\n",
      "6. Rated 3: Brazil\n",
      "7. Rated 3: How to Be Funny: An Extra-Silly Guidebook\n",
      "8. Rated 3: Creating Web Pages for Dummies\n",
      "9. Rated 3: Skull Session\n",
      "10. Rated 2: The Rise and Fall of Gay Culture\n"
     ]
    }
   ],
   "source": [
    "global_algorithm = 'kd_tree'\n",
    "global_metric = 'euclidean'\n",
    "recommendedItem(4017, ratings_matrix)"
   ]
  },
  {
   "cell_type": "code",
   "execution_count": null,
   "id": "a1959bcf",
   "metadata": {},
   "outputs": [],
   "source": []
  }
 ],
 "metadata": {
  "kernelspec": {
   "display_name": "Python 3 (ipykernel)",
   "language": "python",
   "name": "python3"
  },
  "language_info": {
   "codemirror_mode": {
    "name": "ipython",
    "version": 3
   },
   "file_extension": ".py",
   "mimetype": "text/x-python",
   "name": "python",
   "nbconvert_exporter": "python",
   "pygments_lexer": "ipython3",
   "version": "3.10.6"
  }
 },
 "nbformat": 4,
 "nbformat_minor": 5
}
