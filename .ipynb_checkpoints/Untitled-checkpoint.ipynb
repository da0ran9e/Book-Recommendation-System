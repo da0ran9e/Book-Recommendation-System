{
 "cells": [
  {
   "cell_type": "code",
   "execution_count": 2,
   "id": "d7e2ab5d",
   "metadata": {},
   "outputs": [],
   "source": [
    "from IPython.display import display\n",
    "import pandas as pd\n",
    "import numpy as np\n",
    "\n",
    "# Import seaborn for statistic evaluation\n",
    "import seaborn as sns\n",
    "# Apply the default theme\n",
    "sns.set_theme()\n",
    "import matplotlib.pyplot as plt\n",
    "\n",
    "from sklearn.neighbors import NearestNeighbors\n",
    "import sklearn\n",
    "import re\n",
    "import ipywidgets as widgets\n",
    "from IPython.display import display, clear_output\n",
    "from contextlib import contextmanager\n",
    "import os, sys"
   ]
  },
  {
   "cell_type": "code",
   "execution_count": 3,
   "id": "0d916dba",
   "metadata": {},
   "outputs": [],
   "source": [
    "book_path = r'C:\\Users\\Legion\\Downloads\\b\\1INTRO2AI\\BX-Books.csv'\n",
    "user_path = r'C:\\Users\\Legion\\Downloads\\b\\1INTRO2AI\\BX-Users.csv'\n",
    "rating_path = r'C:\\Users\\Legion\\Downloads\\b\\1INTRO2AI\\BX-Book-Ratings.csv'\n",
    "books = pd.read_csv(book_path, encoding='latin-1' , on_bad_lines='skip' , sep=';' , low_memory=False, escapechar='\\\\')\n",
    "users = pd.read_csv(user_path, encoding='latin-1' , on_bad_lines='skip' , sep=';' , low_memory=False, escapechar='\\\\')\n",
    "ratings = pd.read_csv(rating_path, encoding='latin-1' , on_bad_lines='skip' , sep=';' , low_memory=False, escapechar='\\\\')"
   ]
  },
  {
   "cell_type": "code",
   "execution_count": 4,
   "id": "d0965685",
   "metadata": {},
   "outputs": [],
   "source": [
    "pd.set_option('display.max_colwidth', None)"
   ]
  },
  {
   "cell_type": "code",
   "execution_count": 19,
   "id": "a476301e",
   "metadata": {},
   "outputs": [
    {
     "data": {
      "text/html": [
       "<div>\n",
       "<style scoped>\n",
       "    .dataframe tbody tr th:only-of-type {\n",
       "        vertical-align: middle;\n",
       "    }\n",
       "\n",
       "    .dataframe tbody tr th {\n",
       "        vertical-align: top;\n",
       "    }\n",
       "\n",
       "    .dataframe thead th {\n",
       "        text-align: right;\n",
       "    }\n",
       "</style>\n",
       "<table border=\"1\" class=\"dataframe\">\n",
       "  <thead>\n",
       "    <tr style=\"text-align: right;\">\n",
       "      <th></th>\n",
       "      <th>ISBN</th>\n",
       "      <th>Book-Title</th>\n",
       "      <th>Book-Author</th>\n",
       "      <th>Year-Of-Publication</th>\n",
       "      <th>Publisher</th>\n",
       "      <th>Image-URL-S</th>\n",
       "      <th>Image-URL-M</th>\n",
       "      <th>Image-URL-L</th>\n",
       "    </tr>\n",
       "  </thead>\n",
       "  <tbody>\n",
       "    <tr>\n",
       "      <th>0</th>\n",
       "      <td>0195153448</td>\n",
       "      <td>Classical Mythology</td>\n",
       "      <td>Mark P. O. Morford</td>\n",
       "      <td>2002</td>\n",
       "      <td>Oxford University Press</td>\n",
       "      <td>http://images.amazon.com/images/P/0195153448.01.THUMBZZZ.jpg</td>\n",
       "      <td>http://images.amazon.com/images/P/0195153448.01.MZZZZZZZ.jpg</td>\n",
       "      <td>http://images.amazon.com/images/P/0195153448.01.LZZZZZZZ.jpg</td>\n",
       "    </tr>\n",
       "    <tr>\n",
       "      <th>1</th>\n",
       "      <td>0002005018</td>\n",
       "      <td>Clara Callan</td>\n",
       "      <td>Richard Bruce Wright</td>\n",
       "      <td>2001</td>\n",
       "      <td>HarperFlamingo Canada</td>\n",
       "      <td>http://images.amazon.com/images/P/0002005018.01.THUMBZZZ.jpg</td>\n",
       "      <td>http://images.amazon.com/images/P/0002005018.01.MZZZZZZZ.jpg</td>\n",
       "      <td>http://images.amazon.com/images/P/0002005018.01.LZZZZZZZ.jpg</td>\n",
       "    </tr>\n",
       "    <tr>\n",
       "      <th>2</th>\n",
       "      <td>0060973129</td>\n",
       "      <td>Decision in Normandy</td>\n",
       "      <td>Carlo D'Este</td>\n",
       "      <td>1991</td>\n",
       "      <td>HarperPerennial</td>\n",
       "      <td>http://images.amazon.com/images/P/0060973129.01.THUMBZZZ.jpg</td>\n",
       "      <td>http://images.amazon.com/images/P/0060973129.01.MZZZZZZZ.jpg</td>\n",
       "      <td>http://images.amazon.com/images/P/0060973129.01.LZZZZZZZ.jpg</td>\n",
       "    </tr>\n",
       "    <tr>\n",
       "      <th>3</th>\n",
       "      <td>0374157065</td>\n",
       "      <td>Flu: The Story of the Great Influenza Pandemic of 1918 and the Search for the Virus That Caused It</td>\n",
       "      <td>Gina Bari Kolata</td>\n",
       "      <td>1999</td>\n",
       "      <td>Farrar Straus Giroux</td>\n",
       "      <td>http://images.amazon.com/images/P/0374157065.01.THUMBZZZ.jpg</td>\n",
       "      <td>http://images.amazon.com/images/P/0374157065.01.MZZZZZZZ.jpg</td>\n",
       "      <td>http://images.amazon.com/images/P/0374157065.01.LZZZZZZZ.jpg</td>\n",
       "    </tr>\n",
       "    <tr>\n",
       "      <th>4</th>\n",
       "      <td>0393045218</td>\n",
       "      <td>The Mummies of Urumchi</td>\n",
       "      <td>E. J. W. Barber</td>\n",
       "      <td>1999</td>\n",
       "      <td>W. W. Norton &amp;amp; Company</td>\n",
       "      <td>http://images.amazon.com/images/P/0393045218.01.THUMBZZZ.jpg</td>\n",
       "      <td>http://images.amazon.com/images/P/0393045218.01.MZZZZZZZ.jpg</td>\n",
       "      <td>http://images.amazon.com/images/P/0393045218.01.LZZZZZZZ.jpg</td>\n",
       "    </tr>\n",
       "    <tr>\n",
       "      <th>...</th>\n",
       "      <td>...</td>\n",
       "      <td>...</td>\n",
       "      <td>...</td>\n",
       "      <td>...</td>\n",
       "      <td>...</td>\n",
       "      <td>...</td>\n",
       "      <td>...</td>\n",
       "      <td>...</td>\n",
       "    </tr>\n",
       "    <tr>\n",
       "      <th>271374</th>\n",
       "      <td>0440400988</td>\n",
       "      <td>There's a Bat in Bunk Five</td>\n",
       "      <td>Paula Danziger</td>\n",
       "      <td>1988</td>\n",
       "      <td>Random House Childrens Pub (Mm)</td>\n",
       "      <td>http://images.amazon.com/images/P/0440400988.01.THUMBZZZ.jpg</td>\n",
       "      <td>http://images.amazon.com/images/P/0440400988.01.MZZZZZZZ.jpg</td>\n",
       "      <td>http://images.amazon.com/images/P/0440400988.01.LZZZZZZZ.jpg</td>\n",
       "    </tr>\n",
       "    <tr>\n",
       "      <th>271375</th>\n",
       "      <td>0525447644</td>\n",
       "      <td>From One to One Hundred</td>\n",
       "      <td>Teri Sloat</td>\n",
       "      <td>1991</td>\n",
       "      <td>Dutton Books</td>\n",
       "      <td>http://images.amazon.com/images/P/0525447644.01.THUMBZZZ.jpg</td>\n",
       "      <td>http://images.amazon.com/images/P/0525447644.01.MZZZZZZZ.jpg</td>\n",
       "      <td>http://images.amazon.com/images/P/0525447644.01.LZZZZZZZ.jpg</td>\n",
       "    </tr>\n",
       "    <tr>\n",
       "      <th>271376</th>\n",
       "      <td>006008667X</td>\n",
       "      <td>Lily Dale : The True Story of the Town that Talks to the Dead</td>\n",
       "      <td>Christine Wicker</td>\n",
       "      <td>2004</td>\n",
       "      <td>HarperSanFrancisco</td>\n",
       "      <td>http://images.amazon.com/images/P/006008667X.01.THUMBZZZ.jpg</td>\n",
       "      <td>http://images.amazon.com/images/P/006008667X.01.MZZZZZZZ.jpg</td>\n",
       "      <td>http://images.amazon.com/images/P/006008667X.01.LZZZZZZZ.jpg</td>\n",
       "    </tr>\n",
       "    <tr>\n",
       "      <th>271377</th>\n",
       "      <td>0192126040</td>\n",
       "      <td>Republic (World's Classics)</td>\n",
       "      <td>Plato</td>\n",
       "      <td>1996</td>\n",
       "      <td>Oxford University Press</td>\n",
       "      <td>http://images.amazon.com/images/P/0192126040.01.THUMBZZZ.jpg</td>\n",
       "      <td>http://images.amazon.com/images/P/0192126040.01.MZZZZZZZ.jpg</td>\n",
       "      <td>http://images.amazon.com/images/P/0192126040.01.LZZZZZZZ.jpg</td>\n",
       "    </tr>\n",
       "    <tr>\n",
       "      <th>271378</th>\n",
       "      <td>0767409752</td>\n",
       "      <td>A Guided Tour of Rene Descartes' Meditations on First Philosophy with Complete Translations of the Meditations by Ronald Rubin</td>\n",
       "      <td>Christopher  Biffle</td>\n",
       "      <td>2000</td>\n",
       "      <td>McGraw-Hill Humanities/Social Sciences/Languages</td>\n",
       "      <td>http://images.amazon.com/images/P/0767409752.01.THUMBZZZ.jpg</td>\n",
       "      <td>http://images.amazon.com/images/P/0767409752.01.MZZZZZZZ.jpg</td>\n",
       "      <td>http://images.amazon.com/images/P/0767409752.01.LZZZZZZZ.jpg</td>\n",
       "    </tr>\n",
       "  </tbody>\n",
       "</table>\n",
       "<p>271379 rows × 8 columns</p>\n",
       "</div>"
      ],
      "text/plain": [
       "              ISBN  \\\n",
       "0       0195153448   \n",
       "1       0002005018   \n",
       "2       0060973129   \n",
       "3       0374157065   \n",
       "4       0393045218   \n",
       "...            ...   \n",
       "271374  0440400988   \n",
       "271375  0525447644   \n",
       "271376  006008667X   \n",
       "271377  0192126040   \n",
       "271378  0767409752   \n",
       "\n",
       "                                                                                                                            Book-Title  \\\n",
       "0                                                                                                                  Classical Mythology   \n",
       "1                                                                                                                         Clara Callan   \n",
       "2                                                                                                                 Decision in Normandy   \n",
       "3                                   Flu: The Story of the Great Influenza Pandemic of 1918 and the Search for the Virus That Caused It   \n",
       "4                                                                                                               The Mummies of Urumchi   \n",
       "...                                                                                                                                ...   \n",
       "271374                                                                                                      There's a Bat in Bunk Five   \n",
       "271375                                                                                                         From One to One Hundred   \n",
       "271376                                                                   Lily Dale : The True Story of the Town that Talks to the Dead   \n",
       "271377                                                                                                     Republic (World's Classics)   \n",
       "271378  A Guided Tour of Rene Descartes' Meditations on First Philosophy with Complete Translations of the Meditations by Ronald Rubin   \n",
       "\n",
       "                 Book-Author  Year-Of-Publication  \\\n",
       "0         Mark P. O. Morford                 2002   \n",
       "1       Richard Bruce Wright                 2001   \n",
       "2               Carlo D'Este                 1991   \n",
       "3           Gina Bari Kolata                 1999   \n",
       "4            E. J. W. Barber                 1999   \n",
       "...                      ...                  ...   \n",
       "271374        Paula Danziger                 1988   \n",
       "271375            Teri Sloat                 1991   \n",
       "271376      Christine Wicker                 2004   \n",
       "271377                 Plato                 1996   \n",
       "271378   Christopher  Biffle                 2000   \n",
       "\n",
       "                                               Publisher  \\\n",
       "0                                Oxford University Press   \n",
       "1                                  HarperFlamingo Canada   \n",
       "2                                        HarperPerennial   \n",
       "3                                   Farrar Straus Giroux   \n",
       "4                             W. W. Norton &amp; Company   \n",
       "...                                                  ...   \n",
       "271374                   Random House Childrens Pub (Mm)   \n",
       "271375                                      Dutton Books   \n",
       "271376                                HarperSanFrancisco   \n",
       "271377                           Oxford University Press   \n",
       "271378  McGraw-Hill Humanities/Social Sciences/Languages   \n",
       "\n",
       "                                                         Image-URL-S  \\\n",
       "0       http://images.amazon.com/images/P/0195153448.01.THUMBZZZ.jpg   \n",
       "1       http://images.amazon.com/images/P/0002005018.01.THUMBZZZ.jpg   \n",
       "2       http://images.amazon.com/images/P/0060973129.01.THUMBZZZ.jpg   \n",
       "3       http://images.amazon.com/images/P/0374157065.01.THUMBZZZ.jpg   \n",
       "4       http://images.amazon.com/images/P/0393045218.01.THUMBZZZ.jpg   \n",
       "...                                                              ...   \n",
       "271374  http://images.amazon.com/images/P/0440400988.01.THUMBZZZ.jpg   \n",
       "271375  http://images.amazon.com/images/P/0525447644.01.THUMBZZZ.jpg   \n",
       "271376  http://images.amazon.com/images/P/006008667X.01.THUMBZZZ.jpg   \n",
       "271377  http://images.amazon.com/images/P/0192126040.01.THUMBZZZ.jpg   \n",
       "271378  http://images.amazon.com/images/P/0767409752.01.THUMBZZZ.jpg   \n",
       "\n",
       "                                                         Image-URL-M  \\\n",
       "0       http://images.amazon.com/images/P/0195153448.01.MZZZZZZZ.jpg   \n",
       "1       http://images.amazon.com/images/P/0002005018.01.MZZZZZZZ.jpg   \n",
       "2       http://images.amazon.com/images/P/0060973129.01.MZZZZZZZ.jpg   \n",
       "3       http://images.amazon.com/images/P/0374157065.01.MZZZZZZZ.jpg   \n",
       "4       http://images.amazon.com/images/P/0393045218.01.MZZZZZZZ.jpg   \n",
       "...                                                              ...   \n",
       "271374  http://images.amazon.com/images/P/0440400988.01.MZZZZZZZ.jpg   \n",
       "271375  http://images.amazon.com/images/P/0525447644.01.MZZZZZZZ.jpg   \n",
       "271376  http://images.amazon.com/images/P/006008667X.01.MZZZZZZZ.jpg   \n",
       "271377  http://images.amazon.com/images/P/0192126040.01.MZZZZZZZ.jpg   \n",
       "271378  http://images.amazon.com/images/P/0767409752.01.MZZZZZZZ.jpg   \n",
       "\n",
       "                                                         Image-URL-L  \n",
       "0       http://images.amazon.com/images/P/0195153448.01.LZZZZZZZ.jpg  \n",
       "1       http://images.amazon.com/images/P/0002005018.01.LZZZZZZZ.jpg  \n",
       "2       http://images.amazon.com/images/P/0060973129.01.LZZZZZZZ.jpg  \n",
       "3       http://images.amazon.com/images/P/0374157065.01.LZZZZZZZ.jpg  \n",
       "4       http://images.amazon.com/images/P/0393045218.01.LZZZZZZZ.jpg  \n",
       "...                                                              ...  \n",
       "271374  http://images.amazon.com/images/P/0440400988.01.LZZZZZZZ.jpg  \n",
       "271375  http://images.amazon.com/images/P/0525447644.01.LZZZZZZZ.jpg  \n",
       "271376  http://images.amazon.com/images/P/006008667X.01.LZZZZZZZ.jpg  \n",
       "271377  http://images.amazon.com/images/P/0192126040.01.LZZZZZZZ.jpg  \n",
       "271378  http://images.amazon.com/images/P/0767409752.01.LZZZZZZZ.jpg  \n",
       "\n",
       "[271379 rows x 8 columns]"
      ]
     },
     "execution_count": 19,
     "metadata": {},
     "output_type": "execute_result"
    }
   ],
   "source": [
    "books.dtypes\n",
    "books"
   ]
  },
  {
   "cell_type": "code",
   "execution_count": 6,
   "id": "f730b3db",
   "metadata": {},
   "outputs": [],
   "source": [
    "books.loc[books['Book-Author'].isnull(), 'Book-Author'] = \"No author\"\n",
    "books.loc[books['Publisher'].isnull(), 'Book-Author'] = \"Other\""
   ]
  },
  {
   "cell_type": "code",
   "execution_count": 7,
   "id": "f8094933",
   "metadata": {},
   "outputs": [
    {
     "data": {
      "text/plain": [
       "User-ID       int64\n",
       "Location     object\n",
       "Age         float64\n",
       "dtype: object"
      ]
     },
     "execution_count": 7,
     "metadata": {},
     "output_type": "execute_result"
    }
   ],
   "source": [
    "users.dtypes"
   ]
  },
  {
   "cell_type": "code",
   "execution_count": 8,
   "id": "7aeb682b",
   "metadata": {},
   "outputs": [
    {
     "name": "stdout",
     "output_type": "stream",
     "text": [
      "(278858, 3)\n",
      "[nan, 0.0, 1.0, 2.0, 3.0, 4.0, 5.0, 6.0, 7.0, 8.0, 9.0, 10.0, 11.0, 12.0, 13.0, 14.0, 15.0, 16.0, 17.0, 18.0, 19.0, 20.0, 21.0, 22.0, 23.0, 24.0, 25.0, 26.0, 27.0, 28.0, 29.0, 30.0, 31.0, 32.0, 33.0, 34.0, 35.0, 36.0, 37.0, 38.0, 39.0, 40.0, 41.0, 42.0, 43.0, 44.0, 45.0, 46.0, 47.0, 48.0, 49.0, 50.0, 51.0, 52.0, 53.0, 54.0, 55.0, 56.0, 57.0, 58.0, 59.0, 60.0, 61.0, 62.0, 63.0, 64.0, 65.0, 66.0, 67.0, 68.0, 69.0, 70.0, 71.0, 72.0, 73.0, 74.0, 75.0, 76.0, 77.0, 78.0, 79.0, 80.0, 81.0, 82.0, 83.0, 84.0, 85.0, 86.0, 87.0, 88.0, 89.0, 90.0, 91.0, 92.0, 93.0, 94.0, 95.0, 96.0, 97.0, 98.0, 99.0, 100.0, 101.0, 102.0, 103.0, 104.0, 105.0, 106.0, 107.0, 108.0, 109.0, 110.0, 111.0, 113.0, 114.0, 115.0, 116.0, 118.0, 119.0, 123.0, 124.0, 127.0, 128.0, 132.0, 133.0, 136.0, 137.0, 138.0, 140.0, 141.0, 143.0, 146.0, 147.0, 148.0, 151.0, 152.0, 156.0, 157.0, 159.0, 162.0, 168.0, 172.0, 175.0, 183.0, 186.0, 189.0, 199.0, 200.0, 201.0, 204.0, 207.0, 208.0, 209.0, 210.0, 212.0, 219.0, 220.0, 223.0, 226.0, 228.0, 229.0, 230.0, 231.0, 237.0, 239.0, 244.0]\n"
     ]
    }
   ],
   "source": [
    "print(users.shape)\n",
    "users.head()\n",
    "print(sorted(users['Age'].unique()))"
   ]
  },
  {
   "cell_type": "code",
   "execution_count": 9,
   "id": "a2eda06e",
   "metadata": {},
   "outputs": [],
   "source": [
    "users.loc[(users['Age'] < 5) | (users['Age'] > 100), 'Age'] = pd.NA\n",
    "users['Age'] = users['Age'].fillna(users['Age'].mean())\n",
    "users['Age'] = users['Age'].astype(np.int64)"
   ]
  },
  {
   "cell_type": "code",
   "execution_count": 10,
   "id": "09ceb7fc",
   "metadata": {
    "scrolled": true
   },
   "outputs": [
    {
     "data": {
      "text/plain": [
       "User-ID         int64\n",
       "ISBN           object\n",
       "Book-Rating     int64\n",
       "dtype: object"
      ]
     },
     "execution_count": 10,
     "metadata": {},
     "output_type": "execute_result"
    }
   ],
   "source": [
    "ratings.dtypes"
   ]
  },
  {
   "cell_type": "code",
   "execution_count": 28,
   "id": "c098aaa4",
   "metadata": {},
   "outputs": [
    {
     "name": "stdout",
     "output_type": "stream",
     "text": [
      "271379\n",
      "116\n"
     ]
    },
    {
     "data": {
      "text/plain": [
       "array([   0, 1376, 1378, 1806, 1897, 1900, 1901, 1902, 1904, 1906, 1908,\n",
       "       1909, 1910, 1911, 1914, 1917, 1919, 1920, 1921, 1922, 1923, 1924,\n",
       "       1925, 1926, 1927, 1928, 1929, 1930, 1931, 1932, 1933, 1934, 1935,\n",
       "       1936, 1937, 1938, 1939, 1940, 1941, 1942, 1943, 1944, 1945, 1946,\n",
       "       1947, 1948, 1949, 1950, 1951, 1952, 1953, 1954, 1955, 1956, 1957,\n",
       "       1958, 1959, 1960, 1961, 1962, 1963, 1964, 1965, 1966, 1967, 1968,\n",
       "       1969, 1970, 1971, 1972, 1973, 1974, 1975, 1976, 1977, 1978, 1979,\n",
       "       1980, 1981, 1982, 1983, 1984, 1985, 1986, 1987, 1988, 1989, 1990,\n",
       "       1991, 1992, 1993, 1994, 1995, 1996, 1997, 1998, 1999, 2000, 2001,\n",
       "       2002, 2003, 2004, 2005, 2006, 2008, 2010, 2011, 2012, 2020, 2021,\n",
       "       2024, 2026, 2030, 2037, 2038, 2050], dtype=int64)"
      ]
     },
     "execution_count": 28,
     "metadata": {},
     "output_type": "execute_result"
    }
   ],
   "source": [
    "print(len(books))\n",
    "print(len(books['Year-Of-Publication'].unique()))\n",
    "thing = books['Year-Of-Publication'].unique()\n",
    "thing.sort()\n",
    "thing"
   ]
  },
  {
   "cell_type": "code",
   "execution_count": 10,
   "id": "be06a2a9",
   "metadata": {},
   "outputs": [
    {
     "name": "stdout",
     "output_type": "stream",
     "text": [
      "75676205182\n",
      "(1149780, 3)\n",
      "(1031175, 3)\n",
      "(1149780, 3)\n"
     ]
    }
   ],
   "source": [
    "print(users.shape[0] * books.shape[0])\n",
    "ratings.head()\n",
    "print(ratings.shape)\n",
    "# Check if books rated is in database\n",
    "r_existbook = ratings[ratings['ISBN'].isin(books['ISBN'])]\n",
    "print(r_existbook.shape)\n",
    "# Check if people rated is in database\n",
    "r_existpeople = ratings[ratings['User-ID'].isin(users['User-ID'])]\n",
    "print(r_existpeople.shape)"
   ]
  },
  {
   "cell_type": "code",
   "execution_count": 11,
   "id": "1eae62cd",
   "metadata": {},
   "outputs": [
    {
     "data": {
      "text/plain": [
       "array([ 0,  5,  3,  6,  8,  7, 10,  9,  4,  1,  2], dtype=int64)"
      ]
     },
     "execution_count": 11,
     "metadata": {},
     "output_type": "execute_result"
    }
   ],
   "source": [
    "ratings['Book-Rating'].unique()"
   ]
  },
  {
   "cell_type": "code",
   "execution_count": 12,
   "id": "96e6e628",
   "metadata": {},
   "outputs": [],
   "source": [
    "ratings_nonzero = r_existbook[r_existbook['Book-Rating'] != 0]\n",
    "# ratings_explicit\n",
    "ratings_allzero = r_existbook[r_existbook['Book-Rating'] == 0]\n",
    "# ratings_implicit"
   ]
  },
  {
   "cell_type": "code",
   "execution_count": 13,
   "id": "6ea218b9",
   "metadata": {},
   "outputs": [
    {
     "data": {
      "text/plain": [
       "<AxesSubplot: xlabel='Book-Rating', ylabel='count'>"
      ]
     },
     "execution_count": 13,
     "metadata": {},
     "output_type": "execute_result"
    },
    {
     "data": {
      "image/png": "[encoded data removed]",
      "text/plain": [
       "<Figure size 640x480 with 1 Axes>"
      ]
     },
     "metadata": {},
     "output_type": "display_data"
    }
   ],
   "source": [
    "sns.countplot(data = ratings_nonzero, x = 'Book-Rating')"
   ]
  },
  {
   "cell_type": "code",
   "execution_count": 14,
   "id": "79c9d52a",
   "metadata": {},
   "outputs": [],
   "source": [
    "# reducing to user rating 100 books and books have 100 ratings\n",
    "counts1 = ratings_nonzero['User-ID'].value_counts()\n",
    "ratings_nonzero = ratings_nonzero[ratings_nonzero['User-ID'].isin(counts1[counts1 >= 100].index)]\n",
    "counts = ratings_nonzero['Book-Rating'].value_counts()\n",
    "ratings_nonzero = ratings_nonzero[ratings_nonzero['Book-Rating'].isin(counts[counts >= 100].index)]"
   ]
  },
  {
   "cell_type": "code",
   "execution_count": 139,
   "id": "4fc542a3",
   "metadata": {},
   "outputs": [
    {
     "name": "stdout",
     "output_type": "stream",
     "text": [
      "              ISBN  Book-Rating\n",
      "215968  0971880107         2502\n",
      "38572   0316666343         1295\n",
      "70803   0385504209          883\n",
      "7345    0060928336          732\n",
      "32372   0312195516          723\n",
      "...            ...          ...\n",
      "127842  0590662082            1\n",
      "127843  059066218X            1\n",
      "127845  0590664700            1\n",
      "127846  0590664719            1\n",
      "270169  B0002K6K8O            1\n",
      "\n",
      "[270170 rows x 2 columns]\n"
     ]
    },
    {
     "data": {
      "text/plain": [
       "[<matplotlib.lines.Line2D at 0x1ad79baacb0>]"
      ]
     },
     "execution_count": 139,
     "metadata": {},
     "output_type": "execute_result"
    },
    {
     "data": {
      "image/png": "[encoded data removed]",
      "text/plain": [
       "<Figure size 1400x700 with 1 Axes>"
      ]
     },
     "metadata": {},
     "output_type": "display_data"
    }
   ],
   "source": [
    "rcount2 = pd.DataFrame(r_existbook.groupby('ISBN').count()['Book-Rating']).reset_index()\n",
    "rcount2 = rcount2.sort_values('Book-Rating', ascending=False)\n",
    "\n",
    "print(rcount2)\n",
    "\n",
    "xs2 = rcount2['Book-Rating'].value_counts().values\n",
    "ys2 = rcount2['Book-Rating'].value_counts().index\n",
    "\n",
    "fig, ax = plt.subplots(figsize=(14,7))\n",
    "ax.spines['top'].set_visible(False)\n",
    "ax.spines['right'].set_visible(False)\n",
    "ax.set_title('Ratings given per book', fontsize=24, pad=20)\n",
    "ax.set_xlabel('Ratings', fontsize=16, labelpad=20)\n",
    "ax.set_ylabel('Book count', fontsize=16, labelpad=20)\n",
    "\n",
    "plt.plot(xs2,ys2)"
   ]
  },
  {
   "cell_type": "code",
   "execution_count": null,
   "id": "d1f910b9",
   "metadata": {},
   "outputs": [],
   "source": []
  }
 ],
 "metadata": {
  "kernelspec": {
   "display_name": "Python 3 (ipykernel)",
   "language": "python",
   "name": "python3"
  },
  "language_info": {
   "codemirror_mode": {
    "name": "ipython",
    "version": 3
   },
   "file_extension": ".py",
   "mimetype": "text/x-python",
   "name": "python",
   "nbconvert_exporter": "python",
   "pygments_lexer": "ipython3",
   "version": "3.10.6"
  }
 },
 "nbformat": 4,
 "nbformat_minor": 5
}
